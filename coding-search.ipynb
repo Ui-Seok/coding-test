{
 "cells": [
  {
   "cell_type": "code",
   "execution_count": 5,
   "metadata": {},
   "outputs": [
    {
     "name": "stdout",
     "output_type": "stream",
     "text": [
      "4\n"
     ]
    }
   ],
   "source": [
    "# search parts\n",
    "# 이진탐색법 - 재귀함수\n",
    "\n",
    "def binary_search(array, target, start, end):\n",
    "    if start > end:\n",
    "        None\n",
    "    mid = (start + end) // 2\n",
    "\n",
    "    if array[mid] == target:\n",
    "        return mid + 1\n",
    "    elif array[mid] > target:\n",
    "        return binary_search(array, target, start, mid - 1)\n",
    "    else:\n",
    "        return binary_search(array, target, mid + 1, end)\n",
    "    \n",
    "N, target = map(int, input().split())\n",
    "\n",
    "array = list(map(int, input().split()))\n",
    "\n",
    "result = binary_search(array, target, 0, N - 1)\n",
    "if result == None:\n",
    "    print('X')\n",
    "else: print(result)"
   ]
  },
  {
   "cell_type": "code",
   "execution_count": 7,
   "metadata": {},
   "outputs": [
    {
     "name": "stdout",
     "output_type": "stream",
     "text": [
      "4\n"
     ]
    }
   ],
   "source": [
    "# search parts\n",
    "# 이진탐색법 - 반복문\n",
    "\n",
    "def binary_search(array, target, start, end):\n",
    "    while start <= end:\n",
    "        mid = (start + end) // 2\n",
    "\n",
    "        if array[mid] == target:\n",
    "            return mid + 1\n",
    "        elif array[mid] > target:\n",
    "            end = mid - 1\n",
    "        else:\n",
    "            start = mid + 1\n",
    "    return None\n",
    "\n",
    "N, target = map(int, input().split())\n",
    "\n",
    "array = list(map(int, input().split()))\n",
    "\n",
    "result = binary_search(array, target, 0, N-1)\n",
    "if result == None:\n",
    "    print('X')\n",
    "else: print(result)"
   ]
  },
  {
   "cell_type": "code",
   "execution_count": 9,
   "metadata": {},
   "outputs": [
    {
     "name": "stdout",
     "output_type": "stream",
     "text": [
      "no yes yes "
     ]
    }
   ],
   "source": [
    "# search parts\n",
    "# 실전문제 2: 부품 찾기 - 이진탐색 반복문 사용\n",
    "\n",
    "N = int(input())\n",
    "array = list(map(int, input().split()))\n",
    "array = sorted(array)\n",
    "M = int(input())\n",
    "find_list = list(map(int, input().split()))\n",
    "\n",
    "def search_object(array, target, start, end):\n",
    "    if start >= end:\n",
    "        None\n",
    "    \n",
    "    while start < end:\n",
    "        mid = (start + end) // 2\n",
    "        if array[mid] == target:\n",
    "            return mid + 1\n",
    "        elif array[mid] > target:\n",
    "            end = mid - 1\n",
    "        else:\n",
    "            start = mid + 1\n",
    "    return None\n",
    "\n",
    "for target in find_list:\n",
    "    result = search_object(array, target, 0, N - 1)\n",
    "    if result == None:\n",
    "        print('no', end = ' ')\n",
    "    else: print('yes', end = ' ')"
   ]
  },
  {
   "cell_type": "code",
   "execution_count": 11,
   "metadata": {},
   "outputs": [
    {
     "name": "stdout",
     "output_type": "stream",
     "text": [
      "no yes yes "
     ]
    }
   ],
   "source": [
    "# search parts\n",
    "# 실전문제 2: 부품 찾기 - 리스트 안에 찾는것이 있는지 확인 -> in 을 사용할거면 set을 사용하자\n",
    "\n",
    "N = int(input())\n",
    "array = set(map(int, input().split()))\n",
    "M = int(input())\n",
    "find_list = list(map(int, input().split()))\n",
    "\n",
    "for x in find_list:\n",
    "    if x in array:\n",
    "        print('yes', end = ' ')\n",
    "    else: print('no', end = ' ')"
   ]
  },
  {
   "cell_type": "code",
   "execution_count": 2,
   "metadata": {},
   "outputs": [
    {
     "name": "stdout",
     "output_type": "stream",
     "text": [
      "15\n"
     ]
    }
   ],
   "source": [
    "# search parts\n",
    "# 실전문제 3: 떡볶이 떡 만들기\n",
    "\n",
    "N, M = map(int, input().split())\n",
    "\n",
    "array = list(map(int, input().split()))\n",
    "array.sort()\n",
    "start = 0\n",
    "end = array[-1]\n",
    "\n",
    "while (start <= end):\n",
    "    total = 0\n",
    "    mid = (start + end) // 2\n",
    "    for i in array:\n",
    "        if i > mid:\n",
    "            total += i - mid\n",
    "    if total >= M:\n",
    "        result = mid\n",
    "        start = mid + 1\n",
    "    else: end = mid - 1\n",
    "\n",
    "print(result)"
   ]
  }
 ],
 "metadata": {
  "kernelspec": {
   "display_name": "Python 3.9.10 64-bit",
   "language": "python",
   "name": "python3"
  },
  "language_info": {
   "codemirror_mode": {
    "name": "ipython",
    "version": 3
   },
   "file_extension": ".py",
   "mimetype": "text/x-python",
   "name": "python",
   "nbconvert_exporter": "python",
   "pygments_lexer": "ipython3",
   "version": "3.9.10"
  },
  "orig_nbformat": 4,
  "vscode": {
   "interpreter": {
    "hash": "80fb9876edeca0e2b67852dd77425c2c423004ec72ee2dc2b2c439b3dc3bef6c"
   }
  }
 },
 "nbformat": 4,
 "nbformat_minor": 2
}
