{
 "cells": [
  {
   "cell_type": "code",
   "execution_count": null,
   "metadata": {},
   "outputs": [],
   "source": [
    "def rotate_a_matrix_by_90_degree(a):\n",
    "    row_length = len(a)\n",
    "    column_length = len(a[0])\n",
    "\n",
    "    res = [[0] * row_length for _ in range(column_length)]\n",
    "    for r in range(row_length):\n",
    "        for c in range(column_length):\n",
    "            res[c][row_length - 1 - r] = a[r][c]\n",
    "    \n",
    "    return res\n",
    "\n",
    "a = [\n",
    "    [1, 2, 3, 4],\n",
    "    [5, 6, 7, 8],\n",
    "    [9, 10, 11, 12]\n",
    "]\n",
    "\n",
    "print(rotate_a_matrix_by_90_degree(a))"
   ]
  },
  {
   "cell_type": "code",
   "execution_count": null,
   "metadata": {},
   "outputs": [],
   "source": [
    "# 비효율적인 소수 찾는 방법\n",
    "\n",
    "def is_prime_number(x):\n",
    "    # 2부터 (x - 1) 까지의 모든 수를 확인하며\n",
    "    for i in range(2, x):\n",
    "        # x가 해당 수로 나누어 떨어진다면\n",
    "        if x % i == 0:\n",
    "            return False    # 소수가 아님\n",
    "        \n",
    "        return True     # 소수 임"
   ]
  },
  {
   "cell_type": "code",
   "execution_count": null,
   "metadata": {},
   "outputs": [],
   "source": [
    "# 효율적인 소수 찾는 방법\n",
    "\n",
    "import math\n",
    "\n",
    "def is_prime_number(x):\n",
    "    # 2부터 x의 제곱근까지의 모든 수를 확인하며\n",
    "    for i in range(2, int(math.sqrt(x)) + 1):\n",
    "        # x가 해당 수로 나누어 떨어진다면\n",
    "        if x % i == 0:\n",
    "            return False\n",
    "    return True"
   ]
  },
  {
   "cell_type": "code",
   "execution_count": null,
   "metadata": {},
   "outputs": [],
   "source": [
    "# 에라토스테네스의 체\n",
    "# N보다 작거나 같은 모든 소수를 찾을 때 사용한다.\n",
    "\n",
    "import math\n",
    "\n",
    "n = 1000    # 2부터 1,000까지의 모든 수에 대하여 소수 판별\n",
    "array = [True for i in range(n + 1)]    # 처음엔 모든 수가 소수인 것으로 초기화\n",
    "\n",
    "# 에라토스테네스의 체 알고리즘\n",
    "for i in range(2, int(math.sqrt(n)) + 1):   # 2부터 n제곱근까지의 모든 수 확인\n",
    "    if array[i] == True:    # i가 소수인 경우(남은 수인 경우)\n",
    "        # i를 제외한 i의 모든 배수를 지우기\n",
    "        j = 2\n",
    "        while i * j <= n:\n",
    "            array[i * j] = False\n",
    "            j += 1\n",
    "            \n",
    "# 모든 소수 출력\n",
    "for i in range(2, n + 1):\n",
    "    if array[i]:\n",
    "        print(i, end = ' ')"
   ]
  },
  {
   "cell_type": "code",
   "execution_count": null,
   "metadata": {},
   "outputs": [],
   "source": [
    "# 투 포인터\n",
    "\n",
    "n = 5   # 데이터의 개수 N\n",
    "m = 5    # 찾고자 하는 부분합 M\n",
    "data = [1, 2, 3, 4, 5]  # 전체 수열\n",
    "\n",
    "count = 0\n",
    "interval_sum = 0\n",
    "end = 0\n",
    "\n",
    "# start를 차례대로 증가시키며 반복\n",
    "for start in range(n):\n",
    "    # end를 가능한 만큼 이동시키기\n",
    "    while interval_sum < m and end < n:\n",
    "        interval_sum += data[end]\n",
    "        end += 1\n",
    "    # 부분합이 m일 때 카운트 증가\n",
    "    if interval_sum == m:\n",
    "        count += 1\n",
    "    interval_sum -= data[start]\n",
    "\n",
    "print(count)    # 결과 = 3"
   ]
  },
  {
   "cell_type": "code",
   "execution_count": 20,
   "metadata": {},
   "outputs": [
    {
     "name": "stdout",
     "output_type": "stream",
     "text": [
      "['acis', 'acit', 'aciw', 'acst', 'acsw', 'actw', 'aist', 'aisw', 'aitw', 'astw', 'cist', 'cisw', 'citw', 'istw']\n"
     ]
    }
   ],
   "source": [
    "'''\n",
    "풀이시간: 50분\n",
    "소요시간: 26분\n",
    "시작시간: 23:37\n",
    "종료시간: 23:53\n",
    "'''\n",
    "\n",
    "from itertools import combinations\n",
    "\n",
    "L, C = map(int, input().split())\n",
    "lists = input().split()\n",
    "\n",
    "A_list = ['a', 'e', 'i', 'o', 'u']\n",
    "comb_list = []\n",
    "\n",
    "for x in combinations(lists, 4):\n",
    "    cnt = 0\n",
    "    for i in A_list:\n",
    "        if i in x:\n",
    "            cnt += 1\n",
    "    if (cnt >= 1) and ((L - cnt) >= 2):\n",
    "        x = sorted(x)\n",
    "        x = ''.join(x)\n",
    "        comb_list.append(x)\n",
    "\n",
    "comb_list = sorted(comb_list)\n",
    "\n",
    "print(comb_list)"
   ]
  },
  {
   "cell_type": "code",
   "execution_count": 3,
   "metadata": {},
   "outputs": [
    {
     "name": "stdout",
     "output_type": "stream",
     "text": [
      "[[0, 1, 0, 1, 1], [1, 0, 1, 1, 0], [0, 1, 0, 0, 0], [1, 1, 0, 0, 0], [1, 0, 0, 0, 0]]\n"
     ]
    }
   ],
   "source": [
    "'''\n",
    "Q41. 여행 계획\n",
    "풀이시간: 40분\n",
    "소요시간: \n",
    "시작시간: 00:51\n",
    "종료시간: \n",
    "'''\n",
    "\n",
    "# 특정 원소가 속한 집합을 찾기\n",
    "def find_parent(parent, x):\n",
    "  # 루트 노드가 아니라면, 루트 노드를 찾을 때까지 재귀적으로 호출\n",
    "  if parent[x] != x:\n",
    "    parent[x] = find_parent(parent, parent[x])\n",
    "  return parent[x]\n",
    "\n",
    "# 두 원소가 속한 집합을 합치기\n",
    "def union_parent(parent, a, b):\n",
    "  a = find_parent(parent, a)\n",
    "  b = find_parent(parent, b)\n",
    "  if a < b:\n",
    "    parent[a] = b\n",
    "  else:\n",
    "    parent[b] = a\n",
    "\n",
    "# 여행자의 개수와 여행 계획에 속한 여행자의 개수 입력받기\n",
    "n, m = map(int, input().split())\n",
    "parent = [0] * (n + 1)\n",
    "\n",
    "# 부모 테이블상에서, 부모를 자기 자신으로 초기화\n",
    "for i in range(1, n + 1):\n",
    "  parent[i] = i\n",
    "\n",
    "# union 연산을 각각 수행\n",
    "for i in range(n):\n",
    "  data = list(map(int, input().split()))\n",
    "  for j in range(n):\n",
    "    if data[j] == i:  # 연결된 경우 union 연산 수행\n",
    "      union_parent(parent, i + 1, j + 1)\n",
    "\n",
    "# 여행 계획 입력받기\n",
    "plan = list(map(int, input().split()))\n",
    "\n",
    "result = True\n",
    "# 여행 계획에 속하는 모든 노드의 루트가 동일한지 확인\n",
    "for i in range(m - 1):\n",
    "  if find_parent(parent, plan[i]) != find_parent(parent, plan[i + 1]):\n",
    "    result = False\n",
    "\n",
    "# 여행 계획에 속하는 모든 노드가 서로 연결되어 있는지(루트가 동일한지) 확인\n",
    "if result:\n",
    "  print('YES')\n",
    "else:\n",
    "  print('NO')"
   ]
  },
  {
   "cell_type": "code",
   "execution_count": 8,
   "metadata": {},
   "outputs": [
    {
     "name": "stdout",
     "output_type": "stream",
     "text": [
      "4\n"
     ]
    }
   ],
   "source": [
    "'''\n",
    "Q01. 모험가 길드\n",
    "풀이시간: 30분\n",
    "시작시간: 02:06\n",
    "종료시간: 다시\n",
    "'''\n",
    "\n",
    "N = int(input())\n",
    "data = list(map(int, input().split()))\n",
    "data.sort()\n",
    "cnt = 0\n",
    "result = 0\n",
    "\n",
    "for i in data:\n",
    "    cnt += 1\n",
    "    if cnt >= i:\n",
    "        result += 1\n",
    "        cnt = 0\n",
    "\n",
    "print(result)"
   ]
  },
  {
   "cell_type": "code",
   "execution_count": 4,
   "metadata": {},
   "outputs": [
    {
     "name": "stdout",
     "output_type": "stream",
     "text": [
      "READY\n"
     ]
    }
   ],
   "source": [
    "'''\n",
    "Q07. 럭키 스트레이트\n",
    "풀이시간: 20분\n",
    "시작시간: 02:30\n",
    "종료시간: 02:39\n",
    "'''\n",
    "\n",
    "N = list(input())\n",
    "\n",
    "left = list(map(int, N[:3]))\n",
    "right = list(map(int, N[3:]))\n",
    "\n",
    "if sum(left) == sum(right):\n",
    "    print('LUCKY')\n",
    "else:\n",
    "    print('READY')"
   ]
  },
  {
   "cell_type": "code",
   "execution_count": null,
   "metadata": {},
   "outputs": [],
   "source": [
    "'''\n",
    "Q16. 연구소\n",
    "풀이시간: 40분\n",
    "시작시간: \n",
    "종료시간: \n",
    "'''"
   ]
  },
  {
   "cell_type": "code",
   "execution_count": 15,
   "metadata": {},
   "outputs": [
    {
     "name": "stdout",
     "output_type": "stream",
     "text": [
      "6.0\n"
     ]
    }
   ],
   "source": [
    "def numercal(f, x):\n",
    "    delta_x = 1e-4\n",
    "    return (f(x+delta_x) - f(x-delta_x)) / (2*delta_x)\n",
    "\n",
    "def func(x):\n",
    "    return x**2\n",
    "\n",
    "f = lambda x : func(x)\n",
    "\n",
    "result = numercal(f, 3)\n",
    "print(round(result, 1))"
   ]
  },
  {
   "cell_type": "code",
   "execution_count": 1,
   "metadata": {},
   "outputs": [
    {
     "name": "stdout",
     "output_type": "stream",
     "text": [
      "[16, 8]\n"
     ]
    }
   ],
   "source": [
    "def multiply(x):\n",
    "    return x*x\n",
    "\n",
    "def add(x):\n",
    "    return x+x\n",
    "\n",
    "funcs = [multiply, add]\n",
    "for i in range(5):\n",
    "    value = list(map(lambda f: f(i), funcs))\n",
    "\n",
    "print(value)"
   ]
  }
 ],
 "metadata": {
  "kernelspec": {
   "display_name": "Python 3.9.10 64-bit",
   "language": "python",
   "name": "python3"
  },
  "language_info": {
   "codemirror_mode": {
    "name": "ipython",
    "version": 3
   },
   "file_extension": ".py",
   "mimetype": "text/x-python",
   "name": "python",
   "nbconvert_exporter": "python",
   "pygments_lexer": "ipython3",
   "version": "3.9.10"
  },
  "orig_nbformat": 4,
  "vscode": {
   "interpreter": {
    "hash": "80fb9876edeca0e2b67852dd77425c2c423004ec72ee2dc2b2c439b3dc3bef6c"
   }
  }
 },
 "nbformat": 4,
 "nbformat_minor": 2
}
