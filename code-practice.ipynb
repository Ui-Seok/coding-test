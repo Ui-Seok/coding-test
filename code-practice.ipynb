{
 "cells": [
  {
   "cell_type": "code",
   "execution_count": null,
   "metadata": {},
   "outputs": [],
   "source": [
    "def rotate_a_matrix_by_90_degree(a):\n",
    "    row_length = len(a)\n",
    "    column_length = len(a[0])\n",
    "\n",
    "    res = [[0] * row_length for _ in range(column_length)]\n",
    "    for r in range(row_length):\n",
    "        for c in range(column_length):\n",
    "            res[c][row_length - 1 - r] = a[r][c]\n",
    "    \n",
    "    return res\n",
    "\n",
    "a = [\n",
    "    [1, 2, 3, 4],\n",
    "    [5, 6, 7, 8],\n",
    "    [9, 10, 11, 12]\n",
    "]\n",
    "\n",
    "print(rotate_a_matrix_by_90_degree(a))"
   ]
  },
  {
   "cell_type": "code",
   "execution_count": null,
   "metadata": {},
   "outputs": [],
   "source": [
    "# 비효율적인 소수 찾는 방법\n",
    "\n",
    "def is_prime_number(x):\n",
    "    # 2부터 (x - 1) 까지의 모든 수를 확인하며\n",
    "    for i in range(2, x):\n",
    "        # x가 해당 수로 나누어 떨어진다면\n",
    "        if x % i == 0:\n",
    "            return False    # 소수가 아님\n",
    "        \n",
    "        return True     # 소수 임"
   ]
  },
  {
   "cell_type": "code",
   "execution_count": null,
   "metadata": {},
   "outputs": [],
   "source": [
    "# 효율적인 소수 찾는 방법\n",
    "\n",
    "import math\n",
    "\n",
    "def is_prime_number(x):\n",
    "    # 2부터 x의 제곱근까지의 모든 수를 확인하며\n",
    "    for i in range(2, int(math.sqrt(x)) + 1):\n",
    "        # x가 해당 수로 나누어 떨어진다면\n",
    "        if x % i == 0:\n",
    "            return False\n",
    "    return True"
   ]
  },
  {
   "cell_type": "code",
   "execution_count": null,
   "metadata": {},
   "outputs": [],
   "source": [
    "# 에라토스테네스의 체\n",
    "# N보다 작거나 같은 모든 소수를 찾을 때 사용한다.\n",
    "\n",
    "import math\n",
    "\n",
    "n = 1000    # 2부터 1,000까지의 모든 수에 대하여 소수 판별\n",
    "array = [True for i in range(n + 1)]    # 처음엔 모든 수가 소수인 것으로 초기화\n",
    "\n",
    "# 에라토스테네스의 체 알고리즘\n",
    "for i in range(2, int(math.sqrt(n)) + 1):   # 2부터 n제곱근까지의 모든 수 확인\n",
    "    if array[i] == True:    # i가 소수인 경우(남은 수인 경우)\n",
    "        # i를 제외한 i의 모든 배수를 지우기\n",
    "        j = 2\n",
    "        while i * j <= n:\n",
    "            array[i * j] = False\n",
    "            j += 1\n",
    "            \n",
    "# 모든 소수 출력\n",
    "for i in range(2, n + 1):\n",
    "    if array[i]:\n",
    "        print(i, end = ' ')"
   ]
  },
  {
   "cell_type": "code",
   "execution_count": null,
   "metadata": {},
   "outputs": [],
   "source": [
    "# 투 포인터\n",
    "\n",
    "n = 5   # 데이터의 개수 N\n",
    "m = 5    # 찾고자 하는 부분합 M\n",
    "data = [1, 2, 3, 4, 5]  # 전체 수열\n",
    "\n",
    "count = 0\n",
    "interval_sum = 0\n",
    "end = 0\n",
    "\n",
    "# start를 차례대로 증가시키며 반복\n",
    "for start in range(n):\n",
    "    # end를 가능한 만큼 이동시키기\n",
    "    while interval_sum < m and end < n:\n",
    "        interval_sum += data[end]\n",
    "        end += 1\n",
    "    # 부분합이 m일 때 카운트 증가\n",
    "    if interval_sum == m:\n",
    "        count += 1\n",
    "    interval_sum -= data[start]\n",
    "\n",
    "print(count)    # 결과 = 3"
   ]
  },
  {
   "cell_type": "code",
   "execution_count": 20,
   "metadata": {},
   "outputs": [
    {
     "name": "stdout",
     "output_type": "stream",
     "text": [
      "['acis', 'acit', 'aciw', 'acst', 'acsw', 'actw', 'aist', 'aisw', 'aitw', 'astw', 'cist', 'cisw', 'citw', 'istw']\n"
     ]
    }
   ],
   "source": [
    "'''\n",
    "풀이시간: 50분\n",
    "소요시간: 26분\n",
    "시작시간: 23:37\n",
    "종료시간: 23:53\n",
    "'''\n",
    "\n",
    "from itertools import combinations\n",
    "\n",
    "L, C = map(int, input().split())\n",
    "lists = input().split()\n",
    "\n",
    "A_list = ['a', 'e', 'i', 'o', 'u']\n",
    "comb_list = []\n",
    "\n",
    "for x in combinations(lists, 4):\n",
    "    cnt = 0\n",
    "    for i in A_list:\n",
    "        if i in x:\n",
    "            cnt += 1\n",
    "    if (cnt >= 1) and ((L - cnt) >= 2):\n",
    "        x = sorted(x)\n",
    "        x = ''.join(x)\n",
    "        comb_list.append(x)\n",
    "\n",
    "comb_list = sorted(comb_list)\n",
    "\n",
    "print(comb_list)"
   ]
  }
 ],
 "metadata": {
  "kernelspec": {
   "display_name": "Python 3.9.10 64-bit",
   "language": "python",
   "name": "python3"
  },
  "language_info": {
   "codemirror_mode": {
    "name": "ipython",
    "version": 3
   },
   "file_extension": ".py",
   "mimetype": "text/x-python",
   "name": "python",
   "nbconvert_exporter": "python",
   "pygments_lexer": "ipython3",
   "version": "3.9.10"
  },
  "orig_nbformat": 4,
  "vscode": {
   "interpreter": {
    "hash": "80fb9876edeca0e2b67852dd77425c2c423004ec72ee2dc2b2c439b3dc3bef6c"
   }
  }
 },
 "nbformat": 4,
 "nbformat_minor": 2
}
