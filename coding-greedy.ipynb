{
 "cells": [
  {
   "cell_type": "code",
   "execution_count": 5,
   "metadata": {},
   "outputs": [
    {
     "name": "stdout",
     "output_type": "stream",
     "text": [
      "46\n"
     ]
    }
   ],
   "source": [
    "# Greedy parts\n",
    "# 실전 문제 2: 큰 수의 법칙\n",
    "\n",
    "N, M, K = map(int, input().split())\n",
    "\n",
    "lists = list(map(int, input().split()))\n",
    "\n",
    "lists.sort()\n",
    "first_big = lists[-1]\n",
    "second_big = lists[-2]\n",
    "\n",
    "result = 0\n",
    "\n",
    "while True:\n",
    "    for i in range(K):\n",
    "        if M == 0:\n",
    "            break\n",
    "        result += first_big\n",
    "        M -= 1\n",
    "    if M == 0:\n",
    "        break\n",
    "    result += second_big\n",
    "    M -= 1\n",
    "\n",
    "print(result)"
   ]
  },
  {
   "cell_type": "code",
   "execution_count": 7,
   "metadata": {},
   "outputs": [
    {
     "name": "stdout",
     "output_type": "stream",
     "text": [
      "3\n"
     ]
    }
   ],
   "source": [
    "# Greedy parts\n",
    "# 실전 문제 3: 숫자 카드 게임\n",
    "\n",
    "N, M = map(int, input().split())\n",
    "\n",
    "result = 0\n",
    "\n",
    "for i in range(N):\n",
    "    lists = list(map(int, input().split()))\n",
    "    min_value = min(lists)\n",
    "    result = max(result, min_value)\n",
    "\n",
    "print(result)"
   ]
  },
  {
   "cell_type": "code",
   "execution_count": 12,
   "metadata": {},
   "outputs": [
    {
     "name": "stdout",
     "output_type": "stream",
     "text": [
      "3\n"
     ]
    }
   ],
   "source": [
    "# Greedy parts\n",
    "# 실전문제 4: 1이 될 때까지\n",
    "\n",
    "N, K = map(int, input().split())\n",
    "\n",
    "cnt = 0\n",
    "\n",
    "while True:\n",
    "    if N % K == 0:\n",
    "        N = N // K\n",
    "        cnt += 1\n",
    "    else:\n",
    "        N -= 1\n",
    "        cnt += 1\n",
    "    if N == 1:\n",
    "        break\n",
    "print(cnt)"
   ]
  },
  {
   "cell_type": "code",
   "execution_count": 5,
   "metadata": {},
   "outputs": [
    {
     "name": "stdout",
     "output_type": "stream",
     "text": [
      "2\n"
     ]
    }
   ],
   "source": [
    "# Q 01: 모험가 길드\n",
    "\n",
    "N = int(input())\n",
    "array = list(map(int, input().split()))\n",
    "array =  sorted(array)\n",
    "\n",
    "result = 0\n",
    "cnt = 0\n",
    "\n",
    "for i in array:\n",
    "    cnt += 1\n",
    "    if cnt >= i:\n",
    "        result += 1\n",
    "        cnt = 0\n",
    "\n",
    "print(result)"
   ]
  }
 ],
 "metadata": {
  "kernelspec": {
   "display_name": "Python 3.9.10 64-bit",
   "language": "python",
   "name": "python3"
  },
  "language_info": {
   "codemirror_mode": {
    "name": "ipython",
    "version": 3
   },
   "file_extension": ".py",
   "mimetype": "text/x-python",
   "name": "python",
   "nbconvert_exporter": "python",
   "pygments_lexer": "ipython3",
   "version": "3.9.10"
  },
  "orig_nbformat": 4,
  "vscode": {
   "interpreter": {
    "hash": "80fb9876edeca0e2b67852dd77425c2c423004ec72ee2dc2b2c439b3dc3bef6c"
   }
  }
 },
 "nbformat": 4,
 "nbformat_minor": 2
}
