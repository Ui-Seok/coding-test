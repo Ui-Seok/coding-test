{
 "cells": [
  {
   "cell_type": "code",
   "execution_count": null,
   "metadata": {},
   "outputs": [],
   "source": [
    "# Implementation parts\n",
    "# 예제 4-1: 상하좌우\n",
    "\n",
    "N = int(input())\n",
    "\n",
    "lists = input().split()\n",
    "\n",
    "x, y = 1, 1\n",
    "direction_x = [0, 0, -1, 1]\n",
    "direction_y = [-1, 1, 0, 0]\n",
    "move = ['L', 'R', 'U', 'D']\n",
    "\n",
    "for i in range(len(lists)):\n",
    "    for j in range(len(move)):\n",
    "        if lists[i] == move[j]:\n",
    "            x += direction_x[j]\n",
    "            y += direction_y[j]\n",
    "            if x == 0: x += 1\n",
    "            elif y == 0: y += 1\n",
    "            \n",
    "print(x, y)\n"
   ]
  },
  {
   "cell_type": "code",
   "execution_count": null,
   "metadata": {},
   "outputs": [],
   "source": [
    "# Implementation parts\n",
    "# 예제 4-2: 시각\n",
    "\n",
    "N = int(input())\n",
    "\n",
    "cnt = 0\n",
    "\n",
    "for i in range(N + 1):\n",
    "  for j in range(60):\n",
    "    for k in range(60):\n",
    "      if '3' in str(i) + str(j) + str(k):\n",
    "        cnt += 1\n",
    "\n",
    "print(cnt)"
   ]
  },
  {
   "cell_type": "code",
   "execution_count": null,
   "metadata": {},
   "outputs": [],
   "source": [
    "# Implementation parts\n",
    "# 실전문제 2: 왕실의 나이트\n",
    "\n",
    "location = list(input())\n",
    "\n",
    "x = move_x = int(ord(location[0]) - 96)\n",
    "y = move_y = int(location[1])\n",
    "\n",
    "cnt = 0\n",
    "moves = [(-2, -1), (-2, 1), (2, -1), (2, 1),\n",
    "         (-1, -2), (-1, 2), (1, -2), (1, 2)]\n",
    "\n",
    "for move in moves:\n",
    "  move_x += move[0]\n",
    "  move_y += move[1]\n",
    "\n",
    "  if move_x <= 0 or move_y <= 0:\n",
    "    move_x, move_y = x, y\n",
    "\n",
    "  elif move_x > 0 and move_y > 0: \n",
    "    cnt += 1\n",
    "    move_x, move_y = x, y\n",
    "\n",
    "print(cnt)"
   ]
  },
  {
   "cell_type": "markdown",
   "metadata": {},
   "source": [
    "# 실전문제 3 다시 풀기"
   ]
  },
  {
   "cell_type": "code",
   "execution_count": null,
   "metadata": {},
   "outputs": [],
   "source": [
    "# Implementation parts\n",
    "# 실전문제 3: 게임 개발\n",
    "\n",
    "N, M = map(int, input().split())\n",
    "\n",
    "d = [[0] * M for _ in range(N)]\n",
    "\n",
    "x, y, direct = map(int, input().split())\n",
    "d[x][y] = 1\n",
    "\n",
    "array = []\n",
    "for i in range(N):\n",
    "  array.append(list(map(int, input().split())))\n",
    "\n",
    "dx = [-1, 0, 1, 0]\n",
    "dy = [0, 1, 0, -1]\n",
    "\n",
    "def turn_left():\n",
    "  global direct\n",
    "  direct -= 1\n",
    "  if direct == -1:\n",
    "    direct = 3\n",
    "\n",
    "cnt = 1\n",
    "turn_time = 0\n",
    "while True:\n",
    "  turn_left()\n",
    "  nx = x + dx[direct]\n",
    "  ny = y + dy[direct]\n",
    "\n",
    "  if d[nx][ny] == 0 and array[nx][ny] == 0:\n",
    "    d[nx][ny] = 1\n",
    "    x = nx\n",
    "    y = ny\n",
    "    cnt += 1\n",
    "    turn_time = 0\n",
    "    continue\n",
    "\n",
    "  else:\n",
    "    turn_time += 1\n",
    "\n",
    "  if turn_time == 4:\n",
    "    nx = x - dx[direct]\n",
    "    ny = y - dy[direct]\n",
    "\n",
    "    if array[nx][ny] == 0:\n",
    "      x = nx\n",
    "      y = ny\n",
    "    else:\n",
    "      break\n",
    "    turn_time = 0\n",
    "\n",
    "print(cnt)"
   ]
  },
  {
   "cell_type": "code",
   "execution_count": 22,
   "metadata": {},
   "outputs": [
    {
     "name": "stdout",
     "output_type": "stream",
     "text": [
      "READY\n"
     ]
    }
   ],
   "source": [
    "# 07: 럭키 스트레이트\n",
    "\n",
    "N = list(input())\n",
    "\n",
    "mid = len(N) // 2\n",
    "\n",
    "left = list(map(int, N[: mid]))\n",
    "right = list(map(int, N[mid :]))\n",
    "\n",
    "if sum(left) == sum(right):\n",
    "    print(\"LUCKY\")\n",
    "else: print(\"READY\")"
   ]
  }
 ],
 "metadata": {
  "kernelspec": {
   "display_name": "Python 3.9.10 64-bit",
   "language": "python",
   "name": "python3"
  },
  "language_info": {
   "codemirror_mode": {
    "name": "ipython",
    "version": 3
   },
   "file_extension": ".py",
   "mimetype": "text/x-python",
   "name": "python",
   "nbconvert_exporter": "python",
   "pygments_lexer": "ipython3",
   "version": "3.9.10"
  },
  "orig_nbformat": 4,
  "vscode": {
   "interpreter": {
    "hash": "80fb9876edeca0e2b67852dd77425c2c423004ec72ee2dc2b2c439b3dc3bef6c"
   }
  }
 },
 "nbformat": 4,
 "nbformat_minor": 2
}
